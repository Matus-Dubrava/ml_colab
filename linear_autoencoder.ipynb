{
  "nbformat": 4,
  "nbformat_minor": 0,
  "metadata": {
    "colab": {
      "name": "linear_autoencoder.ipynb",
      "provenance": [],
      "collapsed_sections": [],
      "authorship_tag": "ABX9TyOGoJjecjaWhSS28WBcDGXv",
      "include_colab_link": true
    },
    "kernelspec": {
      "name": "python3",
      "display_name": "Python 3"
    }
  },
  "cells": [
    {
      "cell_type": "markdown",
      "metadata": {
        "id": "view-in-github",
        "colab_type": "text"
      },
      "source": [
        "<a href=\"https://colab.research.google.com/github/Matus-Dubrava/ml_colab/blob/master/linear_autoencoder.ipynb\" target=\"_parent\"><img src=\"https://colab.research.google.com/assets/colab-badge.svg\" alt=\"Open In Colab\"/></a>"
      ]
    },
    {
      "cell_type": "code",
      "metadata": {
        "id": "DjHddiI1sKPU",
        "colab_type": "code",
        "colab": {}
      },
      "source": [
        "%tensorflow_version 2.x\n",
        "import tensorflow as tf\n",
        "from tensorflow import keras\n",
        "import matplotlib.pyplot as plt\n",
        "import numpy as np\n",
        "plt.style.use(\"seaborn\")"
      ],
      "execution_count": 0,
      "outputs": []
    },
    {
      "cell_type": "code",
      "metadata": {
        "id": "cu9LJ55bsY2j",
        "colab_type": "code",
        "colab": {}
      },
      "source": [
        "np.random.seed(4)\n",
        "\n",
        "def generate_3d_data(m, w1=0.1, w2=0.3, noise=0.1):\n",
        "    angles = np.random.rand(m) * 3 * np.pi / 2 - 0.5\n",
        "    data = np.empty((m, 3))\n",
        "    data[:, 0] = np.cos(angles) + np.sin(angles)/2 + noise * np.random.randn(m) / 2\n",
        "    data[:, 1] = np.sin(angles) * 0.7 + noise * np.random.randn(m) / 2\n",
        "    data[:, 2] = data[:, 0] * w1 + data[:, 1] * w2 + noise * np.random.randn(m)\n",
        "    return data"
      ],
      "execution_count": 0,
      "outputs": []
    },
    {
      "cell_type": "code",
      "metadata": {
        "id": "O8EOFDVbsjMQ",
        "colab_type": "code",
        "colab": {}
      },
      "source": [
        "X_train = generate_3d_data(60)\n",
        "X_train = X_train - X_train.mean(axis=0, keepdims=0)"
      ],
      "execution_count": 0,
      "outputs": []
    },
    {
      "cell_type": "markdown",
      "metadata": {
        "id": "I1hjqyFFtmG5",
        "colab_type": "text"
      },
      "source": [
        "Using PCA to reduce dimensions from 3 to 2."
      ]
    },
    {
      "cell_type": "code",
      "metadata": {
        "id": "_dXx8M6ps-P2",
        "colab_type": "code",
        "colab": {
          "base_uri": "https://localhost:8080/",
          "height": 34
        },
        "outputId": "ae0481fb-70ab-4a04-cce3-0c88e61fa5b1"
      },
      "source": [
        "from sklearn.decomposition import PCA\n",
        "\n",
        "pca = PCA(n_components=2)\n",
        "X_transformed = pca.fit_transform(X_train)\n",
        "X_transformed.shape"
      ],
      "execution_count": 16,
      "outputs": [
        {
          "output_type": "execute_result",
          "data": {
            "text/plain": [
              "(60, 2)"
            ]
          },
          "metadata": {
            "tags": []
          },
          "execution_count": 16
        }
      ]
    },
    {
      "cell_type": "code",
      "metadata": {
        "id": "Ci8bJiuUt92q",
        "colab_type": "code",
        "colab": {
          "base_uri": "https://localhost:8080/",
          "height": 362
        },
        "outputId": "1a8f029a-b8fb-42bd-fd08-bbcfbac77505"
      },
      "source": [
        "plt.scatter(X_transformed[:, 0], X_transformed[:, 1])\n",
        "plt.title(\"2D representation of the 3D dataset\")\n",
        "plt.show()"
      ],
      "execution_count": 28,
      "outputs": [
        {
          "output_type": "display_data",
          "data": {
            "image/png": "[encoded data removed]",
            "text/plain": [
              "<Figure size 576x396 with 1 Axes>"
            ]
          },
          "metadata": {
            "tags": []
          }
        }
      ]
    },
    {
      "cell_type": "markdown",
      "metadata": {
        "id": "5LPTw2E8uYfm",
        "colab_type": "text"
      },
      "source": [
        "Using linear autoencoder to perform PCA"
      ]
    },
    {
      "cell_type": "code",
      "metadata": {
        "id": "yaKrHxnoudoD",
        "colab_type": "code",
        "colab": {}
      },
      "source": [
        "encoder = keras.Sequential([keras.layers.Dense(2, input_shape=[3])])\n",
        "decoder = keras.Sequential([keras.layers.Dense(3, input_shape=[2])])\n",
        "autoencoder = keras.Sequential([encoder, decoder])\n",
        "autoencoder.compile(loss=\"mean_squared_error\", optimizer=keras.optimizers.SGD(learning_rate=1.5))"
      ],
      "execution_count": 0,
      "outputs": []
    },
    {
      "cell_type": "code",
      "metadata": {
        "id": "b2DKd2aYvL7i",
        "colab_type": "code",
        "colab": {
          "base_uri": "https://localhost:8080/",
          "height": 731
        },
        "outputId": "2fe6a8fd-b5c3-4e8a-8aee-52ac69ffd838"
      },
      "source": [
        "autoencoder.fit(X_train, X_train, epochs=20)"
      ],
      "execution_count": 31,
      "outputs": [
        {
          "output_type": "stream",
          "text": [
            "Train on 60 samples\n",
            "Epoch 1/20\n",
            "60/60 [==============================] - 0s 4ms/sample - loss: 0.7278\n",
            "Epoch 2/20\n",
            "60/60 [==============================] - 0s 125us/sample - loss: 0.1726\n",
            "Epoch 3/20\n",
            "60/60 [==============================] - 0s 99us/sample - loss: 0.1306\n",
            "Epoch 4/20\n",
            "60/60 [==============================] - 0s 112us/sample - loss: 0.2774\n",
            "Epoch 5/20\n",
            "60/60 [==============================] - 0s 120us/sample - loss: 0.1688\n",
            "Epoch 6/20\n",
            "60/60 [==============================] - 0s 113us/sample - loss: 0.0559\n",
            "Epoch 7/20\n",
            "60/60 [==============================] - 0s 123us/sample - loss: 0.0478\n",
            "Epoch 8/20\n",
            "60/60 [==============================] - 0s 116us/sample - loss: 0.0514\n",
            "Epoch 9/20\n",
            "60/60 [==============================] - 0s 119us/sample - loss: 0.0460\n",
            "Epoch 10/20\n",
            "60/60 [==============================] - 0s 118us/sample - loss: 0.0434\n",
            "Epoch 11/20\n",
            "60/60 [==============================] - 0s 113us/sample - loss: 0.0378\n",
            "Epoch 12/20\n",
            "60/60 [==============================] - 0s 111us/sample - loss: 0.0364\n",
            "Epoch 13/20\n",
            "60/60 [==============================] - 0s 107us/sample - loss: 0.0332\n",
            "Epoch 14/20\n",
            "60/60 [==============================] - 0s 117us/sample - loss: 0.0327\n",
            "Epoch 15/20\n",
            "60/60 [==============================] - 0s 114us/sample - loss: 0.0282\n",
            "Epoch 16/20\n",
            "60/60 [==============================] - 0s 128us/sample - loss: 0.0220\n",
            "Epoch 17/20\n",
            "60/60 [==============================] - 0s 116us/sample - loss: 0.0165\n",
            "Epoch 18/20\n",
            "60/60 [==============================] - 0s 113us/sample - loss: 0.0131\n",
            "Epoch 19/20\n",
            "60/60 [==============================] - 0s 118us/sample - loss: 0.0095\n",
            "Epoch 20/20\n",
            "60/60 [==============================] - 0s 104us/sample - loss: 0.0090\n"
          ],
          "name": "stdout"
        },
        {
          "output_type": "execute_result",
          "data": {
            "text/plain": [
              "<tensorflow.python.keras.callbacks.History at 0x7f295b4b6940>"
            ]
          },
          "metadata": {
            "tags": []
          },
          "execution_count": 31
        }
      ]
    },
    {
      "cell_type": "code",
      "metadata": {
        "id": "4kd13rXMvTtU",
        "colab_type": "code",
        "colab": {}
      },
      "source": [
        "codings = encoder.predict(X_train)"
      ],
      "execution_count": 0,
      "outputs": []
    },
    {
      "cell_type": "code",
      "metadata": {
        "id": "yPxljyDQvcYn",
        "colab_type": "code",
        "colab": {
          "base_uri": "https://localhost:8080/",
          "height": 34
        },
        "outputId": "11c12367-9a40-41dd-eb18-9ed40e32e116"
      },
      "source": [
        "codings.shape"
      ],
      "execution_count": 33,
      "outputs": [
        {
          "output_type": "execute_result",
          "data": {
            "text/plain": [
              "(60, 2)"
            ]
          },
          "metadata": {
            "tags": []
          },
          "execution_count": 33
        }
      ]
    },
    {
      "cell_type": "code",
      "metadata": {
        "id": "n3mh5aDnvdk2",
        "colab_type": "code",
        "colab": {
          "base_uri": "https://localhost:8080/",
          "height": 362
        },
        "outputId": "05411e10-9f50-4089-f477-803e04434a99"
      },
      "source": [
        "plt.scatter(codings[:, 0], codings[:, 1])\n",
        "plt.title(\"2D representation of 3D dataset (linear autoencoder)\")\n",
        "plt.show()"
      ],
      "execution_count": 34,
      "outputs": [
        {
          "output_type": "display_data",
          "data": {
            "image/png": "[encoded data removed]",
            "text/plain": [
              "<Figure size 576x396 with 1 Axes>"
            ]
          },
          "metadata": {
            "tags": []
          }
        }
      ]
    },
    {
      "cell_type": "code",
      "metadata": {
        "id": "BDUYa2R0vr-7",
        "colab_type": "code",
        "colab": {}
      },
      "source": [
        ""
      ],
      "execution_count": 0,
      "outputs": []
    }
  ]
}